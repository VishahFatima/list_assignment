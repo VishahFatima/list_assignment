{
 "cells": [
  {
   "cell_type": "code",
   "execution_count": 11,
   "id": "b32db966-c333-4129-92eb-bd6aadd339b6",
   "metadata": {
    "tags": []
   },
   "outputs": [
    {
     "data": {
      "text/plain": [
       "['apple', 'banana', 'orange', 'grape', 'kiwi']"
      ]
     },
     "execution_count": 11,
     "metadata": {},
     "output_type": "execute_result"
    }
   ],
   "source": [
    "# Question 1: Basic List Operations \n",
    "\n",
    "fruits = ['apple', 'banana', 'orange', 'grape', 'kiwi'] #create a list of fruits\n",
    "fruits"
   ]
  },
  {
   "cell_type": "code",
   "execution_count": 12,
   "id": "8b982466-61d2-4517-b2f1-a02504bf2795",
   "metadata": {
    "tags": []
   },
   "outputs": [
    {
     "data": {
      "text/plain": [
       "['apple', 'banana', 'orange', 'grape', 'kiwi', 'pear']"
      ]
     },
     "execution_count": 12,
     "metadata": {},
     "output_type": "execute_result"
    }
   ],
   "source": [
    "fruits.append('pear') #add pear in the list of fruits\n",
    "fruits"
   ]
  },
  {
   "cell_type": "code",
   "execution_count": 13,
   "id": "b3e640e8-8fdf-41ac-9da6-502f27422ab3",
   "metadata": {
    "tags": []
   },
   "outputs": [],
   "source": [
    "fruits.insert(1, 'mango') #insert mango at second position"
   ]
  },
  {
   "cell_type": "code",
   "execution_count": 4,
   "id": "648654d4-90ad-4829-8d4e-0d05338c0229",
   "metadata": {
    "tags": []
   },
   "outputs": [
    {
     "data": {
      "text/plain": [
       "['apple', 'mango', 'banana', 'orange', 'grape', 'kiwi', 'pear']"
      ]
     },
     "execution_count": 4,
     "metadata": {},
     "output_type": "execute_result"
    }
   ],
   "source": [
    "fruits"
   ]
  },
  {
   "cell_type": "code",
   "execution_count": 14,
   "id": "41fbdd9d-74c3-4aa6-a818-e5ecba1120b4",
   "metadata": {
    "tags": []
   },
   "outputs": [
    {
     "data": {
      "text/plain": [
       "['apple', 'mango', 'banana', 'grape', 'kiwi', 'pear']"
      ]
     },
     "execution_count": 14,
     "metadata": {},
     "output_type": "execute_result"
    }
   ],
   "source": [
    "del fruits[3] #remove orange from the list of fruits\n",
    "fruits"
   ]
  },
  {
   "cell_type": "markdown",
   "id": "e1de2a5c-ba29-4009-8126-20aa4e08e943",
   "metadata": {
    "tags": []
   },
   "source": [
    "# Question 2: Slicing & Indexing"
   ]
  },
  {
   "cell_type": "code",
   "execution_count": 16,
   "id": "86de0644-8182-40f4-a21d-8f11b0b5a9b3",
   "metadata": {
    "tags": []
   },
   "outputs": [],
   "source": [
    "a = list(range(0, 10)) #create a list of integers from 0 to 9"
   ]
  },
  {
   "cell_type": "code",
   "execution_count": 7,
   "id": "fe0fe471-6889-41eb-85ba-c48b53e835cb",
   "metadata": {
    "tags": []
   },
   "outputs": [
    {
     "data": {
      "text/plain": [
       "[0, 1, 2, 3, 4, 5, 6, 7, 8, 9]"
      ]
     },
     "execution_count": 7,
     "metadata": {},
     "output_type": "execute_result"
    }
   ],
   "source": [
    "a"
   ]
  },
  {
   "cell_type": "code",
   "execution_count": 15,
   "id": "36af2d7f-4e54-400b-a3bc-75062bba3581",
   "metadata": {
    "tags": []
   },
   "outputs": [
    {
     "data": {
      "text/plain": [
       "3"
      ]
     },
     "execution_count": 15,
     "metadata": {},
     "output_type": "execute_result"
    }
   ],
   "source": [
    "a[3] #printing element at index 3"
   ]
  },
  {
   "cell_type": "code",
   "execution_count": 20,
   "id": "31ae6c41-0cae-4b27-b98e-8869c1e12360",
   "metadata": {
    "tags": []
   },
   "outputs": [
    {
     "data": {
      "text/plain": [
       "[2, 3, 4, 5, 6]"
      ]
     },
     "execution_count": 20,
     "metadata": {},
     "output_type": "execute_result"
    }
   ],
   "source": [
    "a[2:7:1] #printing sublist containing the elements from index 2 to 6 (inclusive)."
   ]
  },
  {
   "cell_type": "code",
   "execution_count": 24,
   "id": "8d8953d5-193f-4e52-ba6f-23a2b497f6e6",
   "metadata": {
    "tags": []
   },
   "outputs": [
    {
     "data": {
      "text/plain": [
       "[9, 8, 7]"
      ]
     },
     "execution_count": 24,
     "metadata": {},
     "output_type": "execute_result"
    }
   ],
   "source": [
    "a[-1:-4:-1] #printing last three elements using negative indexing"
   ]
  },
  {
   "cell_type": "markdown",
   "id": "858c7997-95b6-4f39-b4b5-274751588c6a",
   "metadata": {},
   "source": [
    "# Question 3: List Comprehension"
   ]
  },
  {
   "cell_type": "code",
   "execution_count": 28,
   "id": "1bdceb46-567b-44cd-a24e-b59f2488d29b",
   "metadata": {
    "tags": []
   },
   "outputs": [
    {
     "data": {
      "text/plain": [
       "[1, 4, 9, 16, 25, 36, 49, 64, 81, 100]"
      ]
     },
     "execution_count": 28,
     "metadata": {},
     "output_type": "execute_result"
    }
   ],
   "source": [
    "squares = [i**2 for i in range(1,11)] #list squares using list comprehension\n",
    "squares"
   ]
  },
  {
   "cell_type": "code",
   "execution_count": 29,
   "id": "649eec81-a4b1-417c-9c3a-d1559bddc3fb",
   "metadata": {
    "tags": []
   },
   "outputs": [],
   "source": [
    "new_list = [i for i in squares if i%2==0] #even square list"
   ]
  },
  {
   "cell_type": "code",
   "execution_count": 30,
   "id": "75a60bb9-b988-43ee-b279-14efa27ac1bf",
   "metadata": {
    "tags": []
   },
   "outputs": [
    {
     "data": {
      "text/plain": [
       "[4, 16, 36, 64, 100]"
      ]
     },
     "execution_count": 30,
     "metadata": {},
     "output_type": "execute_result"
    }
   ],
   "source": [
    "new_list"
   ]
  },
  {
   "cell_type": "markdown",
   "id": "7c40357f-a0f5-4e5d-93aa-a4e8ed9629e9",
   "metadata": {},
   "source": [
    "# Question 4: List Manipulation"
   ]
  },
  {
   "cell_type": "code",
   "execution_count": 49,
   "id": "17e138c9-e37f-4ea1-b53d-9e15939eed14",
   "metadata": {
    "tags": []
   },
   "outputs": [],
   "source": [
    "colors = ['red', 'green', 'blue', 'yellow', 'purple']"
   ]
  },
  {
   "cell_type": "code",
   "execution_count": 50,
   "id": "859fce5e-c437-4619-a1df-09be98303441",
   "metadata": {
    "tags": []
   },
   "outputs": [
    {
     "data": {
      "text/plain": [
       "['red', 'green', 'blue', 'yellow', 'purple']"
      ]
     },
     "execution_count": 50,
     "metadata": {},
     "output_type": "execute_result"
    }
   ],
   "source": [
    "colors"
   ]
  },
  {
   "cell_type": "code",
   "execution_count": 51,
   "id": "ca431f80-f77d-42b0-bf37-fffd376dd11e",
   "metadata": {
    "tags": []
   },
   "outputs": [
    {
     "data": {
      "text/plain": [
       "['purple', 'green', 'blue', 'yellow', 'red']"
      ]
     },
     "execution_count": 51,
     "metadata": {},
     "output_type": "execute_result"
    }
   ],
   "source": [
    "c = colors[0] #swapping elements at first & last index\n",
    "colors[0] = colors[-1]\n",
    "colors[-1] = c\n",
    "colors"
   ]
  },
  {
   "cell_type": "code",
   "execution_count": 52,
   "id": "a13ea418-2edf-4c58-93a3-021be265c8e9",
   "metadata": {
    "tags": []
   },
   "outputs": [
    {
     "data": {
      "text/plain": [
       "['red', 'yellow', 'blue', 'green', 'purple']"
      ]
     },
     "execution_count": 52,
     "metadata": {},
     "output_type": "execute_result"
    }
   ],
   "source": [
    "colors = colors[-1::-1]\n",
    "colors"
   ]
  },
  {
   "cell_type": "code",
   "execution_count": 53,
   "id": "d5a4b443-1f69-4a2a-8372-6c0e3f6b2bd2",
   "metadata": {
    "tags": []
   },
   "outputs": [],
   "source": [
    "colors.remove(colors[2]) #removing elements at second & third index\n",
    "colors.remove(colors[2])"
   ]
  },
  {
   "cell_type": "code",
   "execution_count": 54,
   "id": "662d968a-8de1-45fc-884a-869205d72d30",
   "metadata": {
    "tags": []
   },
   "outputs": [
    {
     "data": {
      "text/plain": [
       "['red', 'yellow', 'purple']"
      ]
     },
     "execution_count": 54,
     "metadata": {},
     "output_type": "execute_result"
    }
   ],
   "source": [
    "colors"
   ]
  },
  {
   "cell_type": "markdown",
   "id": "f64b20d0-4137-4a8a-b781-5090d6d21f58",
   "metadata": {},
   "source": [
    "# Question 5: Advanced Slicing"
   ]
  },
  {
   "cell_type": "code",
   "execution_count": 60,
   "id": "f0a73366-53a7-47a8-999f-902653e3e7a9",
   "metadata": {
    "tags": []
   },
   "outputs": [
    {
     "data": {
      "text/plain": [
       "['a', 'b', 'c', 'd', 'e', 'f', 'g', 'h', 'i', 'j']"
      ]
     },
     "execution_count": 60,
     "metadata": {},
     "output_type": "execute_result"
    }
   ],
   "source": [
    "letters = ['a', 'b', 'c', 'd', 'e', 'f', 'g', 'h', 'i', 'j']\n",
    "letters"
   ]
  },
  {
   "cell_type": "code",
   "execution_count": 61,
   "id": "8a865d37-eb41-4383-a644-8468422690dc",
   "metadata": {
    "tags": []
   },
   "outputs": [],
   "source": [
    "letters = ['a', 'b', 'c', 'd','e', 'f', 'g', 'h', 'i', 'j']\n",
    "first_half = letters[0:(len(letters)//2)+1]"
   ]
  },
  {
   "cell_type": "code",
   "execution_count": 62,
   "id": "676ae93f-87a0-4efb-bd0a-26db705e2631",
   "metadata": {
    "tags": []
   },
   "outputs": [
    {
     "data": {
      "text/plain": [
       "['a', 'b', 'c', 'd', 'e', 'f']"
      ]
     },
     "execution_count": 62,
     "metadata": {},
     "output_type": "execute_result"
    }
   ],
   "source": [
    "first_half"
   ]
  },
  {
   "cell_type": "code",
   "execution_count": 63,
   "id": "9f780f57-28dd-4a8f-9c37-3e832f0e9b80",
   "metadata": {
    "tags": []
   },
   "outputs": [
    {
     "name": "stdout",
     "output_type": "stream",
     "text": [
      "['h', 'i', 'j']\n"
     ]
    }
   ],
   "source": [
    "last_three=letters[-3:]\n",
    "print(last_three)"
   ]
  },
  {
   "cell_type": "markdown",
   "id": "ee467beb-7189-4869-9de5-39dd35be9c17",
   "metadata": {},
   "source": [
    "# Question 6: Nested List"
   ]
  },
  {
   "cell_type": "code",
   "execution_count": 64,
   "id": "f098df18-041a-4086-8685-fbc5cdb10d00",
   "metadata": {
    "tags": []
   },
   "outputs": [
    {
     "name": "stdin",
     "output_type": "stream",
     "text": [
      "Enter the number of rows: 3\n",
      "Enter the number of columns: 3\n"
     ]
    }
   ],
   "source": [
    "Row = int(input(\"Enter the number of rows:\"))\n",
    "Column = int(input(\"Enter the number of columns:\"))"
   ]
  },
  {
   "cell_type": "code",
   "execution_count": 65,
   "id": "c3fbddbd-d107-4537-9594-46749f4a4784",
   "metadata": {
    "tags": []
   },
   "outputs": [],
   "source": [
    "# Initialize matrix\n",
    "matrix = []"
   ]
  },
  {
   "cell_type": "code",
   "execution_count": 66,
   "id": "b7f87fc5-8f81-4589-97fa-7d4203c12e6f",
   "metadata": {
    "tags": []
   },
   "outputs": [
    {
     "name": "stdin",
     "output_type": "stream",
     "text": [
      " 1\n",
      " 2\n",
      " 3\n",
      " 4\n",
      " 5\n",
      " 6\n",
      " 7\n",
      " 8\n",
      " 9\n"
     ]
    }
   ],
   "source": [
    "# For user input\n",
    "# A for loop for row entries\n",
    "for row in range(Row):   \n",
    "    a = []\n",
    "    # A for loop for column entries\n",
    "    for column in range(Column):  \n",
    "        a.append(int(input()))\n",
    "    matrix.append(a)"
   ]
  },
  {
   "cell_type": "code",
   "execution_count": 67,
   "id": "8381e385-bde1-4b98-8482-557d04d84afb",
   "metadata": {
    "tags": []
   },
   "outputs": [
    {
     "name": "stdout",
     "output_type": "stream",
     "text": [
      "1 2 3 \n",
      "4 5 6 \n",
      "7 8 9 \n"
     ]
    }
   ],
   "source": [
    "# For printing the matrix\n",
    "for row in range(Row):\n",
    "    for column in range(Column):\n",
    "        print(matrix[row][column], end=\" \")\n",
    "    print()"
   ]
  },
  {
   "cell_type": "code",
   "execution_count": 73,
   "id": "d0317a2d-d878-4ac2-8212-6186d82a6adc",
   "metadata": {
    "tags": []
   },
   "outputs": [
    {
     "name": "stdout",
     "output_type": "stream",
     "text": [
      "6\n"
     ]
    }
   ],
   "source": [
    "print(matrix[1][2]) #print value at second row third column"
   ]
  },
  {
   "cell_type": "code",
   "execution_count": 72,
   "id": "0d3b53d1-87d5-40f2-873e-9227e28969e4",
   "metadata": {
    "tags": []
   },
   "outputs": [
    {
     "data": {
      "text/plain": [
       "[[1, 2, 3], [0, 5, 6], [7, 8, 9]]"
      ]
     },
     "execution_count": 72,
     "metadata": {},
     "output_type": "execute_result"
    }
   ],
   "source": [
    "matrix[1][0] = 0 #changing value at second row first column\n",
    "matrix"
   ]
  },
  {
   "cell_type": "code",
   "execution_count": null,
   "id": "c54f8efd-0d02-422d-a087-7f7d5cdc8597",
   "metadata": {},
   "outputs": [],
   "source": []
  }
 ],
 "metadata": {
  "kernelspec": {
   "display_name": "Python 3 (ipykernel)",
   "language": "python",
   "name": "python3"
  },
  "language_info": {
   "codemirror_mode": {
    "name": "ipython",
    "version": 3
   },
   "file_extension": ".py",
   "mimetype": "text/x-python",
   "name": "python",
   "nbconvert_exporter": "python",
   "pygments_lexer": "ipython3",
   "version": "3.11.3"
  }
 },
 "nbformat": 4,
 "nbformat_minor": 5
}
